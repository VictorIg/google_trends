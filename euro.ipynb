{
 "cells": [
  {
   "cell_type": "code",
   "execution_count": 1,
   "metadata": {},
   "outputs": [],
   "source": [
    "import pytrends\n",
    "from pytrends.request import TrendReq\n",
    "import time\n",
    "import json\n",
    "import pandas as pd\n",
    "import numpy as np\n",
    "from sklearn import metrics\n",
    "import matplotlib.pyplot as plt\n",
    "import seaborn as sns\n",
    "import plotly.graph_objects as go\n",
    "import chart_studio\n",
    "import chart_studio.plotly as py"
   ]
  },
  {
   "cell_type": "code",
   "execution_count": 2,
   "metadata": {},
   "outputs": [],
   "source": [
    "with open('keys.json') as f:\n",
    "    keys = json.load(f)"
   ]
  },
  {
   "cell_type": "code",
   "execution_count": 3,
   "metadata": {},
   "outputs": [],
   "source": [
    "chart_studio.tools.set_credentials_file(username='itko', api_key=keys['plotly'])"
   ]
  },
  {
   "cell_type": "code",
   "execution_count": 4,
   "metadata": {},
   "outputs": [],
   "source": [
    "pytrends = TrendReq(hl='en-US', tz=360)"
   ]
  },
  {
   "cell_type": "code",
   "execution_count": 5,
   "metadata": {},
   "outputs": [],
   "source": [
    "def get_code(kw,wait_time=0.2):\n",
    "    code = pytrends.suggestions(kw)[0]['mid']\n",
    "    time.sleep(wait_time)\n",
    "    return code"
   ]
  },
  {
   "cell_type": "code",
   "execution_count": 6,
   "metadata": {},
   "outputs": [],
   "source": [
    "df = pd.read_csv('./data/interest.csv',index_col=[0,1])"
   ]
  },
  {
   "cell_type": "code",
   "execution_count": 7,
   "metadata": {},
   "outputs": [],
   "source": [
    "keywords = list(set([\n",
    "    'Butter',\n",
    "    'Milk',\n",
    "    'Sugar',\n",
    "    'Tomato',\n",
    "    'Salt',\n",
    "    'Pork',\n",
    "    'Beef',\n",
    "    'Lettuce',\n",
    "    'Cucumber',\n",
    "    'Potato',\n",
    "    'Mustard',\n",
    "    'Ketchup',\n",
    "    'Lemon',\n",
    "    'Garlic',\n",
    "    'Onion',\n",
    "    'Chocolate',\n",
    "    'Apple',\n",
    "    'Banana',\n",
    "    'Wine',\n",
    "    'Rum',\n",
    "    'Tequila',\n",
    "    'Cumin',\n",
    "    'Parsley',\n",
    "    'Beer',\n",
    "    'Cheddar',\n",
    "    'Ice Cream',\n",
    "    'Yogurt',\n",
    "    'Carrot',\n",
    "    'Cheese',\n",
    "    'Pizza',\n",
    "    'Hamburger',\n",
    "    'Pasta',\n",
    "    'Hot Dog',\n",
    "    'Chicken Wings',\n",
    "    'Salad',\n",
    "    'Soup',\n",
    "    'Seafood',\n",
    "    'Bread',\n",
    "    'Rice',\n",
    "    'Corn',\n",
    "    'Chickpeas',\n",
    "    'Dill',\n",
    "    'Coriander',\n",
    "    \n",
    "]))\n",
    "\n",
    "codes = list(map(get_code,keywords))\n",
    "keywords = dict(zip(codes,keywords))"
   ]
  },
  {
   "cell_type": "markdown",
   "metadata": {},
   "source": [
    "Get the geocode of each country"
   ]
  },
  {
   "cell_type": "code",
   "execution_count": 8,
   "metadata": {},
   "outputs": [
    {
     "data": {
      "text/plain": [
       "37"
      ]
     },
     "execution_count": 8,
     "metadata": {},
     "output_type": "execute_result"
    }
   ],
   "source": [
    "countries = [\n",
    "    'Portugal',\n",
    "    'Spain',\n",
    "    'France',\n",
    "    'Belgium',\n",
    "    'Netherlands',\n",
    "    'Denmark',\n",
    "    'Norway',\n",
    "    'Sweden',\n",
    "    'Finland',\n",
    "    'Luxembourg',\n",
    "    'Switzerland',\n",
    "    'Austria',\n",
    "    'Germany',\n",
    "    'Italy',\n",
    "#     'Greece',\n",
    "    'Croatia',\n",
    "    'Hungary',\n",
    "    'United Kingdom',\n",
    "#     'Ireland',\n",
    "    'Iceland',\n",
    "    'Czechia',\n",
    "    'Romania',\n",
    "    'Bulgaria',\n",
    "    'Albania',\n",
    "    'Russia',\n",
    "    'Armenia',\n",
    "    'Georgia',\n",
    "    'Bosnia & Herzegovina',\n",
    "    'Montenegro',\n",
    "    'Serbia',\n",
    "    'Slovenia',\n",
    "    'Slovakia',\n",
    "    'Belarus',\n",
    "    'Ukraine',\n",
    "    'Estonia',\n",
    "    'Latvia',\n",
    "    'Lithuania',\n",
    "    'Turkey',\n",
    "    'Moldova'\n",
    "]\n",
    "len(countries)"
   ]
  },
  {
   "cell_type": "code",
   "execution_count": 9,
   "metadata": {},
   "outputs": [],
   "source": [
    "pytrends.cookies.clear()\n",
    "pytrends = TrendReq(hl='en-US', tz=360)\n",
    "\n",
    "code = get_code('Donald Trump')\n",
    "pytrends.build_payload(\n",
    "    [code],\n",
    "    timeframe='2019-01-01 2020-01-01',\n",
    ")\n",
    "res = pytrends.interest_by_region(inc_geo_code=True)\n",
    "\n",
    "countries = res.loc[res.index.isin(countries)]['geoCode'].to_dict()"
   ]
  },
  {
   "cell_type": "code",
   "execution_count": 10,
   "metadata": {},
   "outputs": [
    {
     "data": {
      "text/plain": [
       "37"
      ]
     },
     "execution_count": 10,
     "metadata": {},
     "output_type": "execute_result"
    }
   ],
   "source": [
    "len(countries)"
   ]
  },
  {
   "cell_type": "markdown",
   "metadata": {},
   "source": [
    "Get the multiplier for each keyword"
   ]
  },
  {
   "cell_type": "code",
   "execution_count": 11,
   "metadata": {},
   "outputs": [
    {
     "name": "stdout",
     "output_type": "stream",
     "text": [
      "Salt\n",
      "Beef\n",
      "Wine\n",
      "Rum\n",
      "Carrot\n",
      "Cheese\n",
      "Sugar\n",
      "Chicken Wings\n",
      "Lettuce\n",
      "Bread\n",
      "Butter\n",
      "Dill\n",
      "Onion\n",
      "Hot Dog\n",
      "Lemon\n",
      "Pork\n",
      "Pasta\n",
      "Coriander\n",
      "Potato\n",
      "Ketchup\n",
      "Pizza\n",
      "Hamburger\n",
      "Cucumber\n",
      "Cumin\n",
      "Tomato\n",
      "Chocolate\n",
      "Salad\n",
      "Chickpeas\n",
      "Milk\n",
      "Apple\n",
      "Garlic\n",
      "Banana\n",
      "Ice Cream\n",
      "Cheddar\n",
      "Corn\n",
      "Yogurt\n",
      "Tequila\n",
      "Seafood\n",
      "Beer\n",
      "Mustard\n",
      "Soup\n",
      "Rice\n",
      "Parsley\n"
     ]
    }
   ],
   "source": [
    "multiplier = []\n",
    "for code,kw in list(keywords.items()):\n",
    "    print(kw)\n",
    "    pytrends.cookies.clear()\n",
    "    pytrends = TrendReq(hl='en-US', tz=360,retries=3, backoff_factor=0.2)\n",
    "    pytrends.build_payload(\n",
    "        [code],\n",
    "        timeframe='2019-01-01 2020-01-01',\n",
    "    )\n",
    "    res = pytrends.interest_by_region(inc_geo_code=True,inc_low_vol=True)\n",
    "    res = res.loc[res.index.isin(countries)]\n",
    "    res.geoCode = res.geoCode.str[-2:]\n",
    "    res = res.reset_index().set_index(['geoName','geoCode'])\n",
    "    res.rename({code:kw},axis=1,inplace=True)\n",
    "    multiplier.append(res)\n",
    "    time.sleep(0.5)\n",
    "    \n",
    "multiplier = pd.concat(multiplier,axis=1)\n",
    "multiplier = multiplier / multiplier.loc['Switzerland'].values"
   ]
  },
  {
   "cell_type": "code",
   "execution_count": 12,
   "metadata": {
    "scrolled": false
   },
   "outputs": [
    {
     "name": "stdout",
     "output_type": "stream",
     "text": [
      "AL\n",
      "AM\n",
      "AT\n",
      "BY\n",
      "BE\n",
      "BA\n",
      "BG\n",
      "HR\n",
      "CZ\n",
      "DK\n",
      "EE\n",
      "FI\n",
      "FR\n",
      "GE\n",
      "DE\n",
      "HU\n",
      "IS\n",
      "IT\n",
      "LV\n",
      "LT\n",
      "LU\n",
      "MD\n",
      "ME\n",
      "NL\n",
      "NO\n",
      "PT\n",
      "RO\n",
      "HTTPSConnectionPool(host='trends.google.com', port=443): Read timed out. (read timeout=5)\n",
      "RU\n",
      "RS\n",
      "SK\n",
      "SI\n",
      "'DataFrame' object has no attribute 'geoCode'\n",
      "\"['geoCode'] not in index\"\n",
      "\"['geoCode'] not in index\"\n",
      "\"['geoCode'] not in index\"\n",
      "\"['geoCode'] not in index\"\n",
      "\"['geoCode'] not in index\"\n",
      "\"['geoCode'] not in index\"\n",
      "'DataFrame' object has no attribute 'geoCode'\n",
      "'DataFrame' object has no attribute 'geoCode'\n",
      "\"['geoCode'] not in index\"\n",
      "\"['geoCode'] not in index\"\n",
      "'DataFrame' object has no attribute 'geoCode'\n",
      "\"['geoCode'] not in index\"\n",
      "'DataFrame' object has no attribute 'geoCode'\n",
      "\"['geoCode'] not in index\"\n",
      "'DataFrame' object has no attribute 'geoCode'\n",
      "\"['geoCode'] not in index\"\n",
      "'DataFrame' object has no attribute 'geoCode'\n",
      "\"['geoCode'] not in index\"\n",
      "'DataFrame' object has no attribute 'geoCode'\n",
      "\"['geoCode'] not in index\"\n",
      "\"['geoCode'] not in index\"\n",
      "\"['geoCode'] not in index\"\n",
      "'DataFrame' object has no attribute 'geoCode'\n",
      "\"['geoCode'] not in index\"\n",
      "\"['geoCode'] not in index\"\n",
      "\"['geoCode'] not in index\"\n",
      "'DataFrame' object has no attribute 'geoCode'\n",
      "\"['geoCode'] not in index\"\n",
      "\"['geoCode'] not in index\"\n",
      "\"['geoCode'] not in index\"\n",
      "\"['geoCode'] not in index\"\n",
      "\"['geoCode'] not in index\"\n",
      "'DataFrame' object has no attribute 'geoCode'\n",
      "'DataFrame' object has no attribute 'geoCode'\n",
      "\"['geoCode'] not in index\"\n",
      "'DataFrame' object has no attribute 'geoCode'\n",
      "'DataFrame' object has no attribute 'geoCode'\n",
      "\"['geoCode'] not in index\"\n",
      "'DataFrame' object has no attribute 'geoCode'\n",
      "\"['geoCode'] not in index\"\n",
      "\"['geoCode'] not in index\"\n",
      "'DataFrame' object has no attribute 'geoCode'\n",
      "ES\n",
      "SE\n",
      "CH\n",
      "TR\n",
      "UA\n",
      "GB\n",
      "The request failed: Google returned a response with code 429.\n",
      "The request failed: Google returned a response with code 429.\n",
      "The request failed: Google returned a response with code 429.\n",
      "The request failed: Google returned a response with code 429.\n",
      "The request failed: Google returned a response with code 429.\n",
      "The request failed: Google returned a response with code 429.\n",
      "The request failed: Google returned a response with code 429.\n",
      "The request failed: Google returned a response with code 429.\n",
      "The request failed: Google returned a response with code 429.\n",
      "The request failed: Google returned a response with code 429.\n",
      "The request failed: Google returned a response with code 429.\n",
      "The request failed: Google returned a response with code 429.\n",
      "The request failed: Google returned a response with code 429.\n",
      "The request failed: Google returned a response with code 429.\n",
      "The request failed: Google returned a response with code 429.\n",
      "The request failed: Google returned a response with code 429.\n",
      "The request failed: Google returned a response with code 429.\n",
      "The request failed: Google returned a response with code 429.\n"
     ]
    }
   ],
   "source": [
    "data = []\n",
    "for country,geo_code in countries.items():\n",
    "    print(geo_code)\n",
    "    pytrends.cookies.clear()\n",
    "    pytrends = TrendReq(hl='en-US',tz=360,retries=3, backoff_factor=0.2)\n",
    "    data_country = []\n",
    "    for code,kw in list(keywords.items()):\n",
    "        try:\n",
    "            pytrends.build_payload(\n",
    "                [code],\n",
    "                timeframe='2019-01-01 2020-01-01',\n",
    "                geo=geo_code\n",
    "            )\n",
    "            res = pytrends.interest_by_region('COUNTRY',inc_geo_code=True,inc_low_vol=True)\n",
    "            res['country_code'] = res.geoCode.str[:2]\n",
    "            res = res.reset_index().set_index(['country_code','geoName','geoCode'])\n",
    "            res.rename({code:kw},axis=1,inplace=True)\n",
    "            # Get multiplier\n",
    "            m = multiplier.at[(country,geo_code),kw]\n",
    "            res *= m\n",
    "        except Exception as e:\n",
    "            print(e)\n",
    "            res = pd.DataFrame()\n",
    "        data_country.append(res)\n",
    "        time.sleep(0.25)\n",
    "    if len(data_country):\n",
    "        data_country = pd.concat(data_country,axis=1)\n",
    "        data.append(data_country)"
   ]
  },
  {
   "cell_type": "code",
   "execution_count": 90,
   "metadata": {
    "scrolled": true
   },
   "outputs": [
    {
     "data": {
      "text/plain": [
       "(796, 43)"
      ]
     },
     "execution_count": 90,
     "metadata": {},
     "output_type": "execute_result"
    }
   ],
   "source": [
    "df = pd.concat(data)\n",
    "df.shape"
   ]
  },
  {
   "cell_type": "code",
   "execution_count": 91,
   "metadata": {},
   "outputs": [],
   "source": [
    "df.to_csv('./data/euro_food.csv')"
   ]
  },
  {
   "cell_type": "code",
   "execution_count": 77,
   "metadata": {},
   "outputs": [
    {
     "data": {
      "text/plain": [
       "(796, 8)"
      ]
     },
     "execution_count": 77,
     "metadata": {},
     "output_type": "execute_result"
    }
   ],
   "source": [
    "df.replace(0,np.nan,inplace=True)\n",
    "df = df.loc[:,df.count().loc[df.count() > 700].index]\n",
    "df.shape"
   ]
  },
  {
   "cell_type": "code",
   "execution_count": 82,
   "metadata": {},
   "outputs": [
    {
     "data": {
      "text/plain": [
       "(656, 8)"
      ]
     },
     "execution_count": 82,
     "metadata": {},
     "output_type": "execute_result"
    }
   ],
   "source": [
    "X = df.loc[df.count(axis=1) >= len(df.columns)]\n",
    "X.shape"
   ]
  },
  {
   "cell_type": "code",
   "execution_count": 83,
   "metadata": {},
   "outputs": [
    {
     "name": "stdout",
     "output_type": "stream",
     "text": [
      "0 ['BE' 'HR' 'DK' 'FR' 'LT' 'LU' 'SK' 'CH']\n",
      "1 ['BA' 'BG' 'FR' 'LV' 'RO' 'RS']\n",
      "2 ['AL' 'FI' 'GE' 'LV' 'PT' 'CH']\n",
      "3 ['BY' 'RU' 'UA']\n",
      "4 ['AM' 'EE' 'GE' 'LV' 'ME' 'RU']\n",
      "5 ['BA' 'HU' 'RO' 'SE']\n",
      "6 ['NO' 'PT' 'ES']\n",
      "7 ['IT']\n",
      "8 ['MD' 'RU' 'UA']\n",
      "9 ['LV' 'TR']\n",
      "10 ['EE' 'LV' 'MD' 'RU' 'UA']\n",
      "11 ['CZ']\n",
      "12 ['MD' 'RU' 'UA']\n",
      "13 ['AT' 'BE' 'FI' 'DE' 'HU' 'IS' 'LV' 'NL' 'CH']\n",
      "14 ['RU' 'UA']\n"
     ]
    }
   ],
   "source": [
    "from sklearn import cluster\n",
    "\n",
    "N_CLUSTERS = 15\n",
    "\n",
    "hierarchical = cluster.AgglomerativeClustering(N_CLUSTERS)\n",
    "y = hierarchical.fit_predict(X.fillna(0))\n",
    "\n",
    "y = pd.Series(y, index=X.index)\n",
    "\n",
    "for i in range(N_CLUSTERS):\n",
    "    print(i,y.loc[y == i].reset_index()['country_code'].unique())"
   ]
  },
  {
   "cell_type": "code",
   "execution_count": 87,
   "metadata": {},
   "outputs": [
    {
     "data": {
      "text/plain": [
       "geoName              geoCode\n",
       "Andalusia            ES-AN      6\n",
       "Aragon               ES-AR      6\n",
       "Asturias             ES-AS      6\n",
       "Balearic Islands     ES-IB      6\n",
       "Basque Country       ES-PV      6\n",
       "Canary Islands       ES-CN      6\n",
       "Cantabria            ES-CB      6\n",
       "Castile and León     ES-CL      6\n",
       "Castile-La Mancha    ES-CM      6\n",
       "Catalonia            ES-CT      6\n",
       "Ceuta                ES-CE      6\n",
       "Community of Madrid  ES-MD      6\n",
       "Extremadura          ES-EX      6\n",
       "Galicia              ES-GA      6\n",
       "La Rioja             ES-RI      6\n",
       "Melilla              ES-ML      6\n",
       "Navarre              ES-NC      6\n",
       "Region of Murcia     ES-MC      6\n",
       "Valencian Community  ES-VC      6\n",
       "dtype: int64"
      ]
     },
     "execution_count": 87,
     "metadata": {},
     "output_type": "execute_result"
    }
   ],
   "source": [
    "y.loc['ES']"
   ]
  },
  {
   "cell_type": "code",
   "execution_count": null,
   "metadata": {},
   "outputs": [],
   "source": []
  },
  {
   "cell_type": "code",
   "execution_count": 63,
   "metadata": {},
   "outputs": [
    {
     "data": {
      "image/png": "[encoded data removed]",
      "text/plain": [
       "<Figure size 432x288 with 1 Axes>"
      ]
     },
     "metadata": {
      "needs_background": "light"
     },
     "output_type": "display_data"
    }
   ],
   "source": [
    "from scipy.cluster.hierarchy import dendrogram\n",
    "def plot_dendrogram(model, **kwargs):\n",
    "    # Create linkage matrix and then plot the dendrogram\n",
    "\n",
    "    # create the counts of samples under each node\n",
    "    counts = np.zeros(model.children_.shape[0])\n",
    "    n_samples = len(model.labels_)\n",
    "    for i, merge in enumerate(model.children_):\n",
    "        current_count = 0\n",
    "        for child_idx in merge:\n",
    "            if child_idx < n_samples:\n",
    "                current_count += 1  # leaf node\n",
    "            else:\n",
    "                current_count += counts[child_idx - n_samples]\n",
    "        counts[i] = current_count\n",
    "\n",
    "    linkage_matrix = np.column_stack([model.children_, model.distances_,\n",
    "                                      counts]).astype(float)\n",
    "\n",
    "    # Plot the corresponding dendrogram\n",
    "    dendrogram(linkage_matrix, **kwargs)\n",
    "\n",
    "hierarchical = cluster.AgglomerativeClustering(distance_threshold=0, n_clusters=None)\n",
    "model = hierarchical.fit(X.fillna(0))\n",
    "plot_dendrogram(model, truncate_mode='level', p=4)"
   ]
  }
 ],
 "metadata": {
  "kernelspec": {
   "display_name": "Python 3",
   "language": "python",
   "name": "python3"
  },
  "language_info": {
   "codemirror_mode": {
    "name": "ipython",
    "version": 3
   },
   "file_extension": ".py",
   "mimetype": "text/x-python",
   "name": "python",
   "nbconvert_exporter": "python",
   "pygments_lexer": "ipython3",
   "version": "3.7.7"
  }
 },
 "nbformat": 4,
 "nbformat_minor": 2
}
